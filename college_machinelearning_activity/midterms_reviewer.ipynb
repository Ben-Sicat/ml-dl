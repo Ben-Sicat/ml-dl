{
 "cells": [
  {
   "cell_type": "markdown",
   "metadata": {},
   "source": [
    "## MarkDown Notes for Machine Learning Midterms Exam"
   ]
  },
  {
   "cell_type": "markdown",
   "metadata": {},
   "source": [
    "#### Data Processing\n",
    "Task of Converting data to a more usable and desired from like embedded data to matrixes and vertices \n",
    "\n",
    "**1) Data Collection**\n",
    "- The most crucial step in ML is to have data\n",
    "  - can be collected in authenticaed sources or created from scratch\n",
    "- There is a need to pinpoint the exact data based on the needs of the user\n",
    "- Good data ensures that the reults of the model are valid\n",
    "\n",
    "**2) Data Preprocessing**\n",
    "| **Advantages** | **Disadvantages** |\n",
    "|---------------------|--------------------|\n",
    "|**<ins>Improved Model Performance</ins>**|**<ins>Time Consuming</ins>**|\n",
    "|"
   ]
  }
 ],
 "metadata": {
  "language_info": {
   "name": "python"
  }
 },
 "nbformat": 4,
 "nbformat_minor": 2
}
