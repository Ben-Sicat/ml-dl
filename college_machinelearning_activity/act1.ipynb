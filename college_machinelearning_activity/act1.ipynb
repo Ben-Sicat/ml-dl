{
 "cells": [
  {
   "cell_type": "markdown",
   "metadata": {},
   "source": [
    "### Perform a basic calculation by writing 2 numbers with an operand in the middle"
   ]
  },
  {
   "cell_type": "code",
   "execution_count": 17,
   "metadata": {},
   "outputs": [
    {
     "data": {
      "text/plain": [
       "4"
      ]
     },
     "execution_count": 17,
     "metadata": {},
     "output_type": "execute_result"
    }
   ],
   "source": [
    "2 + 2"
   ]
  },
  {
   "cell_type": "markdown",
   "metadata": {},
   "source": [
    "### Assign the 2 numbers in a variable, then perform the calculation and print the result"
   ]
  },
  {
   "cell_type": "code",
   "execution_count": 18,
   "metadata": {},
   "outputs": [
    {
     "name": "stdout",
     "output_type": "stream",
     "text": [
      "20\n"
     ]
    }
   ],
   "source": [
    "x = 10\n",
    "y = 2\n",
    "print(x * 2)"
   ]
  },
  {
   "cell_type": "markdown",
   "metadata": {},
   "source": [
    "### Let the user input a name then print an inspiring message for it"
   ]
  },
  {
   "cell_type": "code",
   "execution_count": 19,
   "metadata": {},
   "outputs": [],
   "source": [
    "username = input(\"Enter username:\")\n",
    "message = (\"We don’t read and write poetry because it’s cute.\\n\"\n",
    "           \"We read and write poetry because we are members of the human race.\\n\"\n",
    "           \"And the human race is filled with passion.\\n\"\n",
    "           \"And medicine, law, business, engineering, these are noble pursuits and necessary to sustain life.\\n\"\n",
    "           \"But poetry, beauty, romance, love, these are what we stay alive for.\\n\"\n",
    "           \"To quote from Whitman, “O me! O life!… of the questions of these recurring;\\n\"\n",
    "           \"of the endless trains of the faithless… of cities filled with the foolish;\\n\"\n",
    "           \"what good amid these, O me, O life?” “Answer. That you are here — that life exists, and identity;\\n\"\n",
    "           \"that the powerful play goes on and you may contribute a verse.”\\n\"\n",
    "           \"That the powerful play *goes on* and you may contribute a verse.\\n\"\n",
    "           \"What will your verse be \")\n",
    "final = (message + username + '?')\n",
    "print(final)\n"
   ]
  },
  {
   "cell_type": "markdown",
   "metadata": {},
   "source": [
    "### Print the inspiring message 5 or more times using loops"
   ]
  },
  {
   "cell_type": "code",
   "execution_count": null,
   "metadata": {},
   "outputs": [
    {
     "name": "stdout",
     "output_type": "stream",
     "text": [
      "We don’t read and write poetry because it’s cute.\n",
      "We read and write poetry because we are members of the human race.\n",
      "And the human race is filled with passion.\n",
      "And medicine, law, business, engineering, these are noble pursuits and necessary to sustain life.\n",
      "But poetry, beauty, romance, love, these are what we stay alive for.\n",
      "To quote from Whitman, “O me! O life!… of the questions of these recurring;\n",
      "of the endless trains of the faithless… of cities filled with the foolish;\n",
      "what good amid these, O me, O life?” “Answer. That you are here — that life exists, and identity;\n",
      "that the powerful play goes on and you may contribute a verse.”\n",
      "That the powerful play *goes on* and you may contribute a verse.\n",
      "What will your verse be Ben?\n",
      "We don’t read and write poetry because it’s cute.\n",
      "We read and write poetry because we are members of the human race.\n",
      "And the human race is filled with passion.\n",
      "And medicine, law, business, engineering, these are noble pursuits and necessary to sustain life.\n",
      "But poetry, beauty, romance, love, these are what we stay alive for.\n",
      "To quote from Whitman, “O me! O life!… of the questions of these recurring;\n",
      "of the endless trains of the faithless… of cities filled with the foolish;\n",
      "what good amid these, O me, O life?” “Answer. That you are here — that life exists, and identity;\n",
      "that the powerful play goes on and you may contribute a verse.”\n",
      "That the powerful play *goes on* and you may contribute a verse.\n",
      "What will your verse be Ben?\n",
      "We don’t read and write poetry because it’s cute.\n",
      "We read and write poetry because we are members of the human race.\n",
      "And the human race is filled with passion.\n",
      "And medicine, law, business, engineering, these are noble pursuits and necessary to sustain life.\n",
      "But poetry, beauty, romance, love, these are what we stay alive for.\n",
      "To quote from Whitman, “O me! O life!… of the questions of these recurring;\n",
      "of the endless trains of the faithless… of cities filled with the foolish;\n",
      "what good amid these, O me, O life?” “Answer. That you are here — that life exists, and identity;\n",
      "that the powerful play goes on and you may contribute a verse.”\n",
      "That the powerful play *goes on* and you may contribute a verse.\n",
      "What will your verse be Ben?\n",
      "We don’t read and write poetry because it’s cute.\n",
      "We read and write poetry because we are members of the human race.\n",
      "And the human race is filled with passion.\n",
      "And medicine, law, business, engineering, these are noble pursuits and necessary to sustain life.\n",
      "But poetry, beauty, romance, love, these are what we stay alive for.\n",
      "To quote from Whitman, “O me! O life!… of the questions of these recurring;\n",
      "of the endless trains of the faithless… of cities filled with the foolish;\n",
      "what good amid these, O me, O life?” “Answer. That you are here — that life exists, and identity;\n",
      "that the powerful play goes on and you may contribute a verse.”\n",
      "That the powerful play *goes on* and you may contribute a verse.\n",
      "What will your verse be Ben?\n",
      "We don’t read and write poetry because it’s cute.\n",
      "We read and write poetry because we are members of the human race.\n",
      "And the human race is filled with passion.\n",
      "And medicine, law, business, engineering, these are noble pursuits and necessary to sustain life.\n",
      "But poetry, beauty, romance, love, these are what we stay alive for.\n",
      "To quote from Whitman, “O me! O life!… of the questions of these recurring;\n",
      "of the endless trains of the faithless… of cities filled with the foolish;\n",
      "what good amid these, O me, O life?” “Answer. That you are here — that life exists, and identity;\n",
      "that the powerful play goes on and you may contribute a verse.”\n",
      "That the powerful play *goes on* and you may contribute a verse.\n",
      "What will your verse be Ben?\n"
     ]
    }
   ],
   "source": [
    "for i in range(5):\n",
    "    print(final)"
   ]
  },
  {
   "cell_type": "markdown",
   "metadata": {},
   "source": [
    "### Create a simple python program that will accept multiple data entries (Quiz 1, Quiz 2, LabAct1, LabAct2, LabAct3, Attendance, Exam), then compute for the term grade using the formula (((QAVE * 0.6)+(LabAVE *0.4))*0.4) + (Att * 0.1) + (Exam *0.5) . Determine whether the grade is passed or failed"
   ]
  },
  {
   "cell_type": "code",
   "execution_count": null,
   "metadata": {},
   "outputs": [],
   "source": [
    "def calculate_grd(qz_1, qz_2, lab_1, lab_2, lab_3, att, exam):\n",
    "    QAVE = (qz_1 + qz_2) / 2\n",
    "    LabAVE = (lab_1 + lab_2 + lab_3) / 3\n",
    "    grade = (((QAVE * 0.6)+(LabAVE *0.4))*0.4) + (att * 0.1) + (exam *0.5)\n",
    "    \n",
    "    result = f\"PASSED with the grade of {grade}\" if grade >= 75 else f\"FAILED with the grade of {grade}\"\n",
    "    print(result)"
   ]
  },
  {
   "cell_type": "code",
   "execution_count": null,
   "metadata": {},
   "outputs": [
    {
     "name": "stdout",
     "output_type": "stream",
     "text": [
      "PASSED with the grade of 87.56\n"
     ]
    }
   ],
   "source": [
    "quiz1 = float(input(\"Enter Quiz 1 score: \"))\n",
    "quiz2 = float(input(\"Enter Quiz 2 score: \"))\n",
    "lab1 = float(input(\"Enter Lab Activity 1 score: \"))\n",
    "lab2 = float(input(\"Enter Lab Activity 2 score: \"))\n",
    "lab3 = float(input(\"Enter Lab Activity 3 score: \"))\n",
    "attendance = float(input(\"Enter Attendance score: \"))\n",
    "exam = float(input(\"Enter Exam score: \"))\n",
    "\n",
    "calculate_grd(quiz1, quiz2, lab1, lab2, lab3, attendance, exam)\n"
   ]
  }
 ],
 "metadata": {
  "kernelspec": {
   "display_name": "Python 3",
   "language": "python",
   "name": "python3"
  },
  "language_info": {
   "codemirror_mode": {
    "name": "ipython",
    "version": 3
   },
   "file_extension": ".py",
   "mimetype": "text/x-python",
   "name": "python",
   "nbconvert_exporter": "python",
   "pygments_lexer": "ipython3",
   "version": "3.10.5"
  }
 },
 "nbformat": 4,
 "nbformat_minor": 2
}
