{
 "cells": [
  {
   "cell_type": "markdown",
   "metadata": {},
   "source": [
    "## 00. PyTorch: Fundamentals\n",
    "\n",
    "Resource notebook: https://www.learnpytorch.io/00_pytorch_fundamentals/\n"
   ]
  },
  {
   "cell_type": "code",
   "execution_count": 1,
   "metadata": {},
   "outputs": [],
   "source": [
    "import torch\n",
    "import pandas as pd\n",
    "import numpy as np\n",
    "import matplotlib.pyplot as plt\n"
   ]
  },
  {
   "cell_type": "markdown",
   "metadata": {},
   "source": [
    "##  Introduction to Tensors\n",
    "\n",
    "### Creating Tensors\n",
    "PyTorch tensors are created using `torch.Tensor()` -= https://pytorch.org/docs/stable/tensors.html"
   ]
  },
  {
   "cell_type": "code",
   "execution_count": 2,
   "metadata": {},
   "outputs": [
    {
     "data": {
      "text/plain": [
       "tensor(7)"
      ]
     },
     "execution_count": 2,
     "metadata": {},
     "output_type": "execute_result"
    }
   ],
   "source": [
    "# scalar\n",
    "\n",
    "scalar = torch.tensor(7)\n",
    "scalar"
   ]
  },
  {
   "cell_type": "code",
   "execution_count": 3,
   "metadata": {},
   "outputs": [
    {
     "name": "stdout",
     "output_type": "stream",
     "text": [
      "1\n",
      "torch.Size([2])\n"
     ]
    }
   ],
   "source": [
    "# Vector\n",
    "Vector = torch.tensor([1, 2])\n",
    "dimensions = Vector.ndim # number of dimensions basically the rank of the tensor\n",
    "shape = Vector.shape # shape of the tensor basically the size of the tensor\n",
    "print(dimensions)\n",
    "print(shape)"
   ]
  },
  {
   "cell_type": "code",
   "execution_count": 4,
   "metadata": {},
   "outputs": [
    {
     "name": "stdout",
     "output_type": "stream",
     "text": [
      "2\n",
      "torch.Size([2, 3])\n"
     ]
    }
   ],
   "source": [
    "# Matrix\n",
    "\n",
    "MATRIX = torch.tensor([[1, 2, 3], \n",
    "                       [4, 5, 6]])\n",
    "MATRIX\n",
    "print(MATRIX.ndim) # 2 dimensions\n",
    "print(MATRIX.shape) # 2 rows and 3 columns"
   ]
  },
  {
   "cell_type": "code",
   "execution_count": 5,
   "metadata": {},
   "outputs": [
    {
     "data": {
      "text/plain": [
       "tensor([[[1, 2, 3],\n",
       "         [4, 5, 6],\n",
       "         [1, 2, 3]]])"
      ]
     },
     "execution_count": 5,
     "metadata": {},
     "output_type": "execute_result"
    }
   ],
   "source": [
    "# TENSOR\n",
    "TENSOR = torch.tensor([[[1, 2, 3], \n",
    "                   [4, 5, 6], \n",
    "                   [1, 2, 3]]])\n",
    "TENSOR"
   ]
  },
  {
   "cell_type": "code",
   "execution_count": 6,
   "metadata": {},
   "outputs": [
    {
     "data": {
      "text/plain": [
       "3"
      ]
     },
     "execution_count": 6,
     "metadata": {},
     "output_type": "execute_result"
    }
   ],
   "source": [
    "TENSOR.ndim"
   ]
  },
  {
   "cell_type": "code",
   "execution_count": 7,
   "metadata": {},
   "outputs": [
    {
     "data": {
      "text/plain": [
       "torch.Size([2, 2, 3])"
      ]
     },
     "execution_count": 7,
     "metadata": {},
     "output_type": "execute_result"
    }
   ],
   "source": [
    "TENSOR.shape # 2 matrix with 2 rows and 3 columns\n",
    "#but if its like this\n",
    "\n",
    "test = torch.tensor([[[1, 2, 3], \n",
    "                   [4, 5, 6]], \n",
    "                  [[1, 2, 3], \n",
    "                   [4, 5, 6]]])\n",
    "\n",
    "test.shape # 2 matrices with 2 rows and 3 columns"
   ]
  },
  {
   "cell_type": "markdown",
   "metadata": {},
   "source": [
    "![dimensions](../images/ndime.png)"
   ]
  },
  {
   "cell_type": "markdown",
   "metadata": {},
   "source": [
    "### Creating a range of tensors and tensors-like objects"
   ]
  },
  {
   "cell_type": "code",
   "execution_count": 8,
   "metadata": {},
   "outputs": [],
   "source": [
    "# torch.arange(start, end, step) -> returns a 1D tensor with values from start to end with step size\n",
    "torch.arange(0,10,2)\n",
    "one_to_ten = torch.arange(1,10)"
   ]
  },
  {
   "cell_type": "code",
   "execution_count": 9,
   "metadata": {},
   "outputs": [
    {
     "data": {
      "text/plain": [
       "tensor([0, 0, 0, 0, 0, 0, 0, 0, 0])"
      ]
     },
     "execution_count": 9,
     "metadata": {},
     "output_type": "execute_result"
    }
   ],
   "source": [
    "# creating tensors-like objects\n",
    "ten_zeros = torch.zeros_like(input=one_to_ten)\n",
    "ten_zeros"
   ]
  },
  {
   "cell_type": "markdown",
   "metadata": {},
   "source": [
    "### Tensor Datatypes\n",
    "\n",
    "**Note:** Tensor datatypes are important for GPU accelerations. It is one of the 3 big errors we'll run into with PyTorch & deep learning:\n",
    "1. Tensor not right dataype\n",
    "2. Tensors are not the right shape\n",
    "3. Tensors not on the right device (CPU vs GPU)"
   ]
  },
  {
   "cell_type": "code",
   "execution_count": 10,
   "metadata": {},
   "outputs": [
    {
     "data": {
      "text/plain": [
       "torch.float64"
      ]
     },
     "execution_count": 10,
     "metadata": {},
     "output_type": "execute_result"
    }
   ],
   "source": [
    "# we all know that the default data type of a tensor is float32\n",
    "# we can change it by using dtype\n",
    "ten_zeros = torch.zeros_like(input=one_to_ten, \n",
    "                             dtype=torch.float64,# this function is used to change the data type of the tensor\n",
    "                             #32 bit floating point number is a single precision number while 64 bit floating point number is a double precision number\n",
    "                             device='cuda', # this function is used to change the device of  the tensor which are: cpu, cuda, mkldnn, opengl, opencl, ideep, hip, msnpu\n",
    "                             requires_grad=False# wether or not to track the gradients with this tensors operations\n",
    "                             )\n",
    "ten_zeros.dtype"
   ]
  },
  {
   "cell_type": "markdown",
   "metadata": {},
   "source": []
  },
  {
   "cell_type": "markdown",
   "metadata": {},
   "source": [
    "### Manipulating a Tensor (tensor operations)\n",
    "\n",
    "Tensor operations inclide:\n",
    "- Addition\n",
    "- Subtraction\n",
    "- Multiplication \n",
    "- Division\n",
    "\n",
    "all of which are element-wise operations\n",
    "- Matrix Multiplication\n"
   ]
  },
  {
   "cell_type": "code",
   "execution_count": 13,
   "metadata": {},
   "outputs": [
    {
     "name": "stdout",
     "output_type": "stream",
     "text": [
      "tensor([20, 30, 40])\n",
      "tensor([100, 200, 300])\n",
      "tensor([1., 2., 3.])\n",
      "tensor([ 0, 10, 20])\n"
     ]
    }
   ],
   "source": [
    "#addition \n",
    "x = torch.tensor([10, 20, 30])\n",
    "\n",
    "print(x + 10)\n",
    "\n",
    "#multiplication\n",
    "print(x * 10)\n",
    "\n",
    "\n",
    "#division\n",
    "print(x / 10)\n",
    "\n",
    "\n",
    "#subtraction\n",
    "print(x - 10)\n",
    "\n"
   ]
  },
  {
   "cell_type": "markdown",
   "metadata": {},
   "source": [
    "### Matrix Multiplication\n",
    "\n",
    "Dot product of two matrices is the sum of the products of the corresponding entries of the two sequences of numbers.\n",
    "\n",
    "and all rules of matrix multiplication apply\n",
    "\n",
    "1. inner dimensions must match\n",
    "2. resulting matrix has the shape of the outer dimensions"
   ]
  },
  {
   "cell_type": "code",
   "execution_count": 16,
   "metadata": {},
   "outputs": [
    {
     "name": "stdout",
     "output_type": "stream",
     "text": [
      "torch.Size([2, 3])\n",
      "torch.Size([3, 2])\n"
     ]
    },
    {
     "data": {
      "text/plain": [
       "tensor([[ 58,  64],\n",
       "        [139, 154]])"
      ]
     },
     "execution_count": 16,
     "metadata": {},
     "output_type": "execute_result"
    }
   ],
   "source": [
    "#use matrix multiplication to multiply [1,2,3\n",
    "#                                     [4,5,6]\n",
    "# and [7,8]\n",
    "#     [9,10]\n",
    "# and [11,12]\n",
    "\n",
    "tensor1 = torch.tensor([[1,2,3],\n",
    "                        [4,5,6]])\n",
    "tensor2 = torch.tensor([[7,8],\n",
    "                        [9,10],\n",
    "                        [11,12]])\n",
    "print(tensor1.shape)\n",
    "print(tensor2.shape)\n",
    "torch.matmul(tensor1, tensor2)\n"
   ]
  },
  {
   "cell_type": "markdown",
   "metadata": {},
   "source": [
    "To fix some of the issues with matrix multiplication, we can use the `torch.transpose()` function to **transpose** the dimensions of a tensor.\n",
    "\n",
    "so if we have a tensor `x` with shape `(2, 3)` and another tensor `y` shaped `(2,3)` also we can use the `torch.transpose()` function to swap the dimensions of `y` to `(3, 2)` and then we can multiply the two tensors together."
   ]
  },
  {
   "cell_type": "markdown",
   "metadata": {},
   "source": [
    "### Finding the min, max, mean, sum, and standard deviation of a tensor (tensor aggregations)"
   ]
  }
 ],
 "metadata": {
  "kernelspec": {
   "display_name": "Python 3",
   "language": "python",
   "name": "python3"
  },
  "language_info": {
   "codemirror_mode": {
    "name": "ipython",
    "version": 3
   },
   "file_extension": ".py",
   "mimetype": "text/x-python",
   "name": "python",
   "nbconvert_exporter": "python",
   "pygments_lexer": "ipython3",
   "version": "3.10.5"
  }
 },
 "nbformat": 4,
 "nbformat_minor": 2
}
