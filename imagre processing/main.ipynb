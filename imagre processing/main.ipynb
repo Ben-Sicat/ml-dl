{
  "cells": [
    {
      "cell_type": "markdown",
      "metadata": {
        "id": "view-in-github",
        "colab_type": "text"
      },
      "source": [
        "<a href=\"https://colab.research.google.com/github/Ben-Sicat/ml-dl/blob/master/imagre%20processing/main.ipynb\" target=\"_parent\"><img src=\"https://colab.research.google.com/assets/colab-badge.svg\" alt=\"Open In Colab\"/></a>"
      ]
    },
    {
      "cell_type": "code",
      "execution_count": 17,
      "metadata": {
        "colab": {
          "base_uri": "https://localhost:8080/"
        },
        "id": "uPkgsPud33IW",
        "outputId": "c54f0fac-cf0a-423d-97af-ed1d85f38fc0"
      },
      "outputs": [
        {
          "output_type": "stream",
          "name": "stdout",
          "text": [
            "x_train shape: (60000, 28, 28) y_train shape: (60000,) x_test shape: (10000, 28, 28) y_test shape: (10000,)\n"
          ]
        }
      ],
      "source": [
        "import tensorflow as tf\n",
        "import numpy as np\n",
        "import matplotlib.pyplot as plt\n",
        "from tensorflow.keras.preprocessing.image import ImageDataGenerator\n",
        "\n",
        "# Load themnist pre-shuffled train data and test data\n",
        "(x_train, y_train), (x_test, y_test) = tf.keras.datasets.mnist.load_data()\n",
        "print(\"x_train shape:\", x_train.shape, \"y_train shape:\", y_train.shape,\"x_test shape:\", x_test.shape, \"y_test shape:\", y_test.shape)"
      ]
    },
    {
      "cell_type": "code",
      "execution_count": 18,
      "metadata": {
        "id": "sZOlx-dS33IX"
      },
      "outputs": [],
      "source": [
        "np.random.seed(0)"
      ]
    },
    {
      "cell_type": "code",
      "execution_count": 19,
      "metadata": {
        "colab": {
          "base_uri": "https://localhost:8080/",
          "height": 443
        },
        "id": "ZyUd9mPu33IX",
        "outputId": "02f86d00-3f30-450c-a02d-d131db0c8646"
      },
      "outputs": [
        {
          "output_type": "execute_result",
          "data": {
            "text/plain": [
              "<matplotlib.image.AxesImage at 0x78886c7d7d00>"
            ]
          },
          "metadata": {},
          "execution_count": 19
        },
        {
          "output_type": "display_data",
          "data": {
            "text/plain": [
              "<Figure size 640x480 with 1 Axes>"
            ],
            "image/png": "[encoded data removed]"
          },
          "metadata": {}
        }
      ],
      "source": [
        "# Show one of the images from the training dataset\n",
        "plt.xticks([])\n",
        "plt.yticks([])\n",
        "plt.xlabel([y_train[1]])\n",
        "plt.imshow(x_train[1],cmap=plt.cm.binary)"
      ]
    },
    {
      "cell_type": "code",
      "execution_count": 20,
      "metadata": {
        "id": "g0mak3Al33IY"
      },
      "outputs": [],
      "source": [
        "# Normalize the pixel values to the range [0, 1]\n",
        "\n",
        "x_train = x_train.astype('float32') / 255\n",
        "x_test = x_test.astype('float32') / 255\n",
        "\n",
        "# Reshape image channel for greyscale\n",
        "\n",
        "x_train = np.expand_dims(x_train, axis=-1)\n",
        "x_test = np.expand_dims(x_test, axis=-1)\n",
        "\n"
      ]
    },
    {
      "cell_type": "code",
      "source": [
        "# Augment the data to bring diversity to the dataset and basically make a shit ton more\n",
        "datagen = ImageDataGenerator(\n",
        "    rotation_range=10,\n",
        "    width_shift_range=0.1,\n",
        "    height_shift_range=0.1,\n",
        "    zoom_range=0.1,\n",
        "    horizontal_flip=False,\n",
        "    vertical_flip=False\n",
        ")\n",
        "\n",
        "datagen.fit(x_train)"
      ],
      "metadata": {
        "id": "spTPTOEjUooY"
      },
      "execution_count": 21,
      "outputs": []
    },
    {
      "cell_type": "code",
      "execution_count": 22,
      "metadata": {
        "colab": {
          "base_uri": "https://localhost:8080/"
        },
        "id": "JQvaNRUy33IY",
        "outputId": "13cf4d86-1c89-4690-979e-eff652fa637d"
      },
      "outputs": [
        {
          "output_type": "stream",
          "name": "stdout",
          "text": [
            "Model: \"sequential_1\"\n",
            "_________________________________________________________________\n",
            " Layer (type)                Output Shape              Param #   \n",
            "=================================================================\n",
            " conv2d_2 (Conv2D)           (None, 28, 28, 64)        320       \n",
            "                                                                 \n",
            " max_pooling2d_2 (MaxPoolin  (None, 14, 14, 64)        0         \n",
            " g2D)                                                            \n",
            "                                                                 \n",
            " dropout_3 (Dropout)         (None, 14, 14, 64)        0         \n",
            "                                                                 \n",
            " conv2d_3 (Conv2D)           (None, 14, 14, 32)        8224      \n",
            "                                                                 \n",
            " max_pooling2d_3 (MaxPoolin  (None, 7, 7, 32)          0         \n",
            " g2D)                                                            \n",
            "                                                                 \n",
            " dropout_4 (Dropout)         (None, 7, 7, 32)          0         \n",
            "                                                                 \n",
            " flatten_1 (Flatten)         (None, 1568)              0         \n",
            "                                                                 \n",
            " dense_2 (Dense)             (None, 256)               401664    \n",
            "                                                                 \n",
            " dropout_5 (Dropout)         (None, 256)               0         \n",
            "                                                                 \n",
            " dense_3 (Dense)             (None, 10)                2570      \n",
            "                                                                 \n",
            "=================================================================\n",
            "Total params: 412778 (1.57 MB)\n",
            "Trainable params: 412778 (1.57 MB)\n",
            "Non-trainable params: 0 (0.00 Byte)\n",
            "_________________________________________________________________\n"
          ]
        }
      ],
      "source": [
        "model = tf.keras.Sequential()\n",
        "# Must define the input shape in the first layer of the neural network\n",
        "model.add(tf.keras.layers.Conv2D(filters=64, kernel_size=(2,2),strides=(1, 1), padding='same', activation='relu', input_shape=(28,28,1)))\n",
        "model.add(tf.keras.layers.MaxPooling2D(pool_size=(2,2)))\n",
        "model.add(tf.keras.layers.Dropout(0.3))\n",
        "model.add(tf.keras.layers.Conv2D(filters=32, kernel_size=(2,2),strides=(1, 1), padding='same', activation='relu'))\n",
        "model.add(tf.keras.layers.MaxPooling2D(pool_size=(2,2)))\n",
        "model.add(tf.keras.layers.Dropout(0.3))\n",
        "model.add(tf.keras.layers.Flatten())\n",
        "model.add(tf.keras.layers.Dense(256, activation='relu'))\n",
        "model.add(tf.keras.layers.Dropout(0.5))\n",
        "model.add(tf.keras.layers.Dense(10, activation='softmax'))\n",
        "# Take a look at the model summary\n",
        "model.summary()"
      ]
    },
    {
      "cell_type": "code",
      "execution_count": 23,
      "metadata": {
        "id": "08HUa-uo33IY"
      },
      "outputs": [],
      "source": [
        "model.compile(loss='sparse_categorical_crossentropy',\n",
        "              optimizer='adam',\n",
        "              metrics=['accuracy'])\n"
      ]
    },
    {
      "cell_type": "code",
      "execution_count": 24,
      "metadata": {
        "id": "x-2dLNoa33IY"
      },
      "outputs": [],
      "source": [
        "x_train = x_train.reshape(-1,28, 28,1)#Reshape for CNN\n",
        "x_test = x_test.reshape(-1,28, 28, 1)\n"
      ]
    },
    {
      "cell_type": "code",
      "execution_count": 25,
      "metadata": {
        "colab": {
          "base_uri": "https://localhost:8080/"
        },
        "id": "vnPToiFo33IZ",
        "outputId": "b9a79e61-5622-4947-ba8e-be0cc96ebb00"
      },
      "outputs": [
        {
          "output_type": "stream",
          "name": "stdout",
          "text": [
            "Epoch 1/10\n",
            "700/700 [==============================] - 5s 5ms/step - loss: 0.4125 - accuracy: 0.8669 - val_loss: 0.1060 - val_accuracy: 0.9673\n",
            "Epoch 2/10\n",
            "700/700 [==============================] - 3s 5ms/step - loss: 0.1500 - accuracy: 0.9531 - val_loss: 0.0716 - val_accuracy: 0.9786\n",
            "Epoch 3/10\n",
            "700/700 [==============================] - 3s 5ms/step - loss: 0.1112 - accuracy: 0.9651 - val_loss: 0.0578 - val_accuracy: 0.9821\n",
            "Epoch 4/10\n",
            "700/700 [==============================] - 4s 6ms/step - loss: 0.0915 - accuracy: 0.9716 - val_loss: 0.0521 - val_accuracy: 0.9836\n",
            "Epoch 5/10\n",
            "700/700 [==============================] - 3s 5ms/step - loss: 0.0805 - accuracy: 0.9753 - val_loss: 0.0465 - val_accuracy: 0.9861\n",
            "Epoch 6/10\n",
            "700/700 [==============================] - 4s 5ms/step - loss: 0.0731 - accuracy: 0.9769 - val_loss: 0.0463 - val_accuracy: 0.9855\n",
            "Epoch 7/10\n",
            "700/700 [==============================] - 3s 5ms/step - loss: 0.0682 - accuracy: 0.9775 - val_loss: 0.0408 - val_accuracy: 0.9876\n",
            "Epoch 8/10\n",
            "700/700 [==============================] - 3s 4ms/step - loss: 0.0638 - accuracy: 0.9798 - val_loss: 0.0412 - val_accuracy: 0.9874\n",
            "Epoch 9/10\n",
            "700/700 [==============================] - 4s 6ms/step - loss: 0.0576 - accuracy: 0.9814 - val_loss: 0.0409 - val_accuracy: 0.9880\n",
            "Epoch 10/10\n",
            "700/700 [==============================] - 3s 5ms/step - loss: 0.0548 - accuracy: 0.9826 - val_loss: 0.0381 - val_accuracy: 0.9882\n"
          ]
        }
      ],
      "source": [
        "model_log=model.fit(x_train, y_train,\n",
        "          batch_size=60,\n",
        "          epochs=10,\n",
        "          verbose=1,\n",
        "          validation_split=.3)\n",
        "#shit gpu 90+ % on google collab"
      ]
    },
    {
      "cell_type": "code",
      "execution_count": 26,
      "metadata": {
        "colab": {
          "base_uri": "https://localhost:8080/"
        },
        "id": "ZvhLZgDK33IZ",
        "outputId": "4e74c381-2f78-4e52-880c-e98516dd3886"
      },
      "outputs": [
        {
          "output_type": "stream",
          "name": "stdout",
          "text": [
            "\n",
            " Test accuracy: 0.9900000095367432\n"
          ]
        }
      ],
      "source": [
        "# Evaluate the model on test set\n",
        "score = model.evaluate(x_test, y_test, verbose=0)\n",
        "# Print test accuracy\n",
        "print('\\n', 'Test accuracy:', score[1])"
      ]
    },
    {
      "cell_type": "code",
      "execution_count": 27,
      "metadata": {
        "colab": {
          "base_uri": "https://localhost:8080/"
        },
        "id": "0iLeXyV833IZ",
        "outputId": "f4481037-8a5f-41c9-dcb4-36ea5af75ad8"
      },
      "outputs": [
        {
          "output_type": "stream",
          "name": "stdout",
          "text": [
            "313/313 [==============================] - 1s 2ms/step\n"
          ]
        },
        {
          "output_type": "execute_result",
          "data": {
            "text/plain": [
              "array([2.2353443e-10, 2.2738895e-08, 1.9164386e-06, 7.8207131e-06,\n",
              "       2.6851850e-12, 6.8424134e-11, 3.4208376e-16, 9.9998939e-01,\n",
              "       7.6366211e-09, 8.3722603e-07], dtype=float32)"
            ]
          },
          "metadata": {},
          "execution_count": 27
        }
      ],
      "source": [
        "predictions = model.predict(x_test)\n",
        "predictions[0]"
      ]
    },
    {
      "cell_type": "code",
      "execution_count": 28,
      "metadata": {
        "colab": {
          "base_uri": "https://localhost:8080/"
        },
        "id": "FcrnFa5B33IZ",
        "outputId": "e0363c8a-fc5f-4660-b0c7-6268994e3af1"
      },
      "outputs": [
        {
          "output_type": "execute_result",
          "data": {
            "text/plain": [
              "7"
            ]
          },
          "metadata": {},
          "execution_count": 28
        }
      ],
      "source": [
        "np.argmax(predictions[0])"
      ]
    },
    {
      "cell_type": "code",
      "execution_count": 29,
      "metadata": {
        "colab": {
          "base_uri": "https://localhost:8080/"
        },
        "id": "mF6N6Tz533Ia",
        "outputId": "58847ad3-80f5-4bc0-c32c-9fbe91b68716"
      },
      "outputs": [
        {
          "output_type": "execute_result",
          "data": {
            "text/plain": [
              "(10000, 28, 28)"
            ]
          },
          "metadata": {},
          "execution_count": 29
        }
      ],
      "source": [
        "x_test = x_test.reshape(-1,28, 28)\n",
        "x_test.shape"
      ]
    },
    {
      "cell_type": "code",
      "execution_count": 30,
      "metadata": {
        "colab": {
          "base_uri": "https://localhost:8080/",
          "height": 443
        },
        "id": "wUfPQXWm33Ia",
        "outputId": "631334ff-cb8d-4344-ba9e-d5edf6cf2ab3"
      },
      "outputs": [
        {
          "output_type": "execute_result",
          "data": {
            "text/plain": [
              "<matplotlib.image.AxesImage at 0x78890fcc5180>"
            ]
          },
          "metadata": {},
          "execution_count": 30
        },
        {
          "output_type": "display_data",
          "data": {
            "text/plain": [
              "<Figure size 640x480 with 1 Axes>"
            ],
            "image/png": "[encoded data removed]"
          },
          "metadata": {}
        }
      ],
      "source": [
        "# Show one of the images from the test dataset\n",
        "plt.xticks([])\n",
        "plt.yticks([])\n",
        "plt.xlabel([y_train[0]])\n",
        "plt.imshow(x_test[0],cmap=plt.cm.binary)\n"
      ]
    },
    {
      "cell_type": "code",
      "execution_count": 31,
      "metadata": {
        "id": "Kuol-ISb33Ib"
      },
      "outputs": [],
      "source": [
        "def plot_image(i, predictions_array, true_label, img):\n",
        "    plt.imshow(img[i], cmap=plt.cm.binary)\n",
        "    plt.xlabel(f\"{np.argmax(predictions_array[i])} {100*np.max(predictions_array[i]):2.0f}% ({true_label[i]})\", color=('blue' if np.argmax(predictions_array[i]) == true_label[i] else 'red'))\n",
        "    plt.xticks([])\n",
        "    plt.yticks([])\n",
        "    plt.grid(False)\n",
        "\n",
        "def plot_value_array(i, predictions_array, true_label):\n",
        "    plt.bar(range(10), predictions_array[i], color=\"#777777\")\n",
        "    plt.ylim([0, 1])\n",
        "    plt.xticks([])\n",
        "    plt.yticks([])\n",
        "    plt.grid(False)\n",
        "    plt.gca().get_children()[np.argmax(predictions_array[i])].set_color('red')\n",
        "    plt.gca().get_children()[true_label[i]].set_color('blue')\n"
      ]
    },
    {
      "cell_type": "code",
      "execution_count": 32,
      "metadata": {
        "colab": {
          "base_uri": "https://localhost:8080/",
          "height": 826
        },
        "id": "kdi6rWOQ33Ib",
        "outputId": "a7998438-b580-41fd-b152-9f78df415fac"
      },
      "outputs": [
        {
          "output_type": "display_data",
          "data": {
            "text/plain": [
              "<Figure size 1200x1000 with 30 Axes>"
            ],
            "image/png": "[encoded data removed]"
          },
          "metadata": {}
        }
      ],
      "source": [
        "# Plot the first X test images, their predicted label, and the true label\n",
        "# Color correct predictions in blue, incorrect predictions in red\n",
        "num_rows = 5\n",
        "num_cols = 3\n",
        "num_images = num_rows*num_cols\n",
        "plt.figure(figsize=(2*2*num_cols, 2*num_rows))\n",
        "for i in range(num_images):\n",
        "  plt.subplot(num_rows, 2*num_cols, 2*i+1)\n",
        "  plot_image(i, predictions, y_test, x_test)\n",
        "  plt.subplot(num_rows, 2*num_cols, 2*i+2)\n",
        "  plot_value_array(i, predictions, y_test)\n",
        "plt.show()"
      ]
    }
  ],
  "metadata": {
    "accelerator": "GPU",
    "colab": {
      "gpuType": "T4",
      "provenance": [],
      "include_colab_link": true
    },
    "kernelspec": {
      "display_name": "Python 3",
      "name": "python3"
    },
    "language_info": {
      "codemirror_mode": {
        "name": "ipython",
        "version": 3
      },
      "file_extension": ".py",
      "mimetype": "text/x-python",
      "name": "python",
      "nbconvert_exporter": "python",
      "pygments_lexer": "ipython3",
      "version": "3.10.5"
    }
  },
  "nbformat": 4,
  "nbformat_minor": 0
}