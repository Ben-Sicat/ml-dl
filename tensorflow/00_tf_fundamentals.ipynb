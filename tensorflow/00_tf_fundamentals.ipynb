{
 "cells": [
  {
   "cell_type": "markdown",
   "metadata": {},
   "source": [
    "## TensorFlow 2.0 bullshit ni ben\n",
    "\n",
    "There are a lot of ways to define a tensor in TensorFlow 2.0. This notebook is a quick reference for the most common ways to define a tensor.\n",
    "Common definition of tensors are:\n",
    "* A tensor is a generalization of vectors and matrices and is easily understood as a multidimensional array.\n",
    "* A tensor is a container which can house data in N dimensions.\n",
    "* A tensor is a mathematical object analogous to but more general than a vector, represented by an array of components that are functions of the coordinates of a space.\n",
    "* A tensor is a geometric object that maps in a multi-linear manner geometric vectors, scalars, and other tensors to a resulting tensor. Vectors and scalars themselves are also tensors.\n",
    "\n",
    "### Each tensor has its own data type and shape.\n",
    "\n",
    "**Data type** - The type of data (integer, float, etc.) contained in the tensor.\n",
    "\n",
    "**Shape** - The number of dimensions the tensor has."
   ]
  },
  {
   "cell_type": "markdown",
   "metadata": {},
   "source": [
    "### Creating Tensors\n",
    "\n",
    "Below are some examples of creating tensors in Tensor Flow."
   ]
  },
  {
   "cell_type": "code",
   "execution_count": 1,
   "metadata": {},
   "outputs": [
    {
     "name": "stdout",
     "output_type": "stream",
     "text": [
      "WARNING:tensorflow:From c:\\Users\\bensi\\AppData\\Local\\Programs\\Python\\Python310\\lib\\site-packages\\keras\\src\\losses.py:2976: The name tf.losses.sparse_softmax_cross_entropy is deprecated. Please use tf.compat.v1.losses.sparse_softmax_cross_entropy instead.\n",
      "\n"
     ]
    }
   ],
   "source": [
    "import tensorflow as tf\n",
    "import numpy as np\n",
    "import matplotlib.pyplot as plt\n"
   ]
  },
  {
   "cell_type": "code",
   "execution_count": 4,
   "metadata": {},
   "outputs": [
    {
     "name": "stdout",
     "output_type": "stream",
     "text": [
      "string:  <tf.Variable 'Variable:0' shape=() dtype=string, numpy=b'this is a string'> \n",
      "number:  <tf.Variable 'Variable:0' shape=() dtype=int32, numpy=324> \n",
      "floating:  <tf.Variable 'Variable:0' shape=() dtype=float32, numpy=3.567>\n"
     ]
    }
   ],
   "source": [
    "string = tf.Variable(\"this is a string\", tf.string)\n",
    "number = tf.Variable(324, tf.int16)\n",
    "floating = tf.Variable(3.567, tf.float64)\n",
    "\n",
    "\n",
    "print(\"string: \", string, \"\\nnumber: \", number, \"\\nfloating: \", floating)\n",
    "\n"
   ]
  },
  {
   "cell_type": "markdown",
   "metadata": {},
   "source": [
    "## Ranking/Degree of Tensors\n",
    "\n",
    "Another word for rank is degree, these terms simply  mean the number of dimensions involved in the tensor. What we created above is a tensor of rank 0, also known as **scalar**. A scalar contains a single value, and no \"axes\"."
   ]
  },
  {
   "cell_type": "code",
   "execution_count": 6,
   "metadata": {},
   "outputs": [
    {
     "name": "stdout",
     "output_type": "stream",
     "text": [
      "rank1_tensor:  <tf.Variable 'Variable:0' shape=(3,) dtype=string, numpy=array([b'Test', b'Ben', b'10'], dtype=object)> \n",
      "rank2_tensor:  <tf.Variable 'Variable:0' shape=(2, 2) dtype=string, numpy=\n",
      "array([[b'test', b'ok'],\n",
      "       [b'test', b'yes']], dtype=object)>\n"
     ]
    }
   ],
   "source": [
    "rank1_tensor = tf.Variable([\"Test\", \"Ben\", \"10\"], tf.string)\n",
    "rank2_tensor = tf.Variable([[\"test\", \"ok\"], [\"test\", \"yes\"]], tf.string)"
   ]
  },
  {
   "cell_type": "markdown",
   "metadata": {},
   "source": [
    "To **determine the rank** of a tensor we can call the `tf.rank()` method. Let's see some examples:"
   ]
  },
  {
   "cell_type": "code",
   "execution_count": 10,
   "metadata": {},
   "outputs": [
    {
     "data": {
      "text/plain": [
       "<tf.Tensor: shape=(), dtype=int32, numpy=2>"
      ]
     },
     "execution_count": 10,
     "metadata": {},
     "output_type": "execute_result"
    }
   ],
   "source": [
    "tf.rank(rank2_tensor)\n",
    "#numpy=2 means rank2_tensor is a 2d array or a rank 2 tensor\n"
   ]
  },
  {
   "cell_type": "markdown",
   "metadata": {},
   "source": [
    "### Changing the Shape of a Tensor\n",
    "\n",
    "The number of elements of a tensor is the product of the sizes of all its shapes. When reshaping a tensor, the number of elements of the reshaped tensor has to match the number of elements of the original tensor. In other words, the shapes of the original and reshaped tensor must be compatible.\n",
    "\n",
    "The example below shows how to reshape tensors."
   ]
  },
  {
   "cell_type": "code",
   "execution_count": 11,
   "metadata": {},
   "outputs": [],
   "source": [
    "tensor1 = tf.ones([1,2,3]) #tf.ones() creates a shape [1,2,3] tensor full of ones\n",
    "\n",
    "tensor2 = tf.reshape(tensor1, [2,3,1]) #reshape existing data to shape [2,3,1]\n",
    "\n",
    "tensor3 = tf.reshape(tensor2, [3, -1]) # -1 tells the tensor to calculate the size of the dimension in that place\n",
    "\n",
    "#The numer of elements in the reshaped tensor MUST match the number in the original"
   ]
  }
 ],
 "metadata": {
  "kernelspec": {
   "display_name": "Python 3",
   "language": "python",
   "name": "python3"
  },
  "language_info": {
   "codemirror_mode": {
    "name": "ipython",
    "version": 3
   },
   "file_extension": ".py",
   "mimetype": "text/x-python",
   "name": "python",
   "nbconvert_exporter": "python",
   "pygments_lexer": "ipython3",
   "version": "3.10.5"
  }
 },
 "nbformat": 4,
 "nbformat_minor": 2
}
